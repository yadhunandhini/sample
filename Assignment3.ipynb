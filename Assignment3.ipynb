{
  "nbformat": 4,
  "nbformat_minor": 0,
  "metadata": {
    "colab": {
      "provenance": [],
      "collapsed_sections": []
    },
    "kernelspec": {
      "name": "python3",
      "display_name": "Python 3"
    },
    "language_info": {
      "name": "python"
    }
  },
  "cells": [
    {
      "cell_type": "code",
      "source": [
        "from google.colab import drive\n",
        "drive.mount('/content/drive')"
      ],
      "metadata": {
        "id": "A1TxLhrmt8L2",
        "outputId": "b85d036c-3c10-4e93-87f1-6f071e6b4013",
        "colab": {
          "base_uri": "https://localhost:8080/"
        }
      },
      "execution_count": null,
      "outputs": [
        {
          "output_type": "stream",
          "name": "stdout",
          "text": [
            "Drive already mounted at /content/drive; to attempt to forcibly remount, call drive.mount(\"/content/drive\", force_remount=True).\n"
          ]
        }
      ]
    },
    {
      "cell_type": "markdown",
      "source": [
        "# Data Augmentation\n",
        "\n"
      ],
      "metadata": {
        "id": "nooMsj5bVjge"
      }
    },
    {
      "cell_type": "code",
      "source": [
        "# Import required lib\n",
        "\n",
        "from tensorflow.keras.preprocessing.image import ImageDataGenerator"
      ],
      "metadata": {
        "id": "m7siVT5qUYGP"
      },
      "execution_count": null,
      "outputs": []
    },
    {
      "cell_type": "code",
      "source": [
        "# Initializing augmentation for training variable\n",
        "\n",
        "train_data = ImageDataGenerator(rescale=1./255,\n",
        "                                   zoom_range=0.2,\n",
        "                                   horizontal_flip=True)"
      ],
      "metadata": {
        "id": "otlxqYLHWPgs"
      },
      "execution_count": null,
      "outputs": []
    },
    {
      "cell_type": "code",
      "source": [
        "# Initializing augmentation for testing variable\n",
        "\n",
        "test_data = ImageDataGenerator(rescale=1./255)"
      ],
      "metadata": {
        "id": "BrGmvE9SXpvU"
      },
      "execution_count": null,
      "outputs": []
    },
    {
      "cell_type": "code",
      "source": [
        "# Passing training data for training variable (augmentation)\n",
        "\n",
        "xtrain = train_data.flow_from_directory('/content/drive/MyDrive/Flowers-Dataset/flowers/train',\n",
        "                                           target_size=(64,64),\n",
        "                                           class_mode='categorical',\n",
        "                                           batch_size=100)"
      ],
      "metadata": {
        "colab": {
          "base_uri": "https://localhost:8080/"
        },
        "id": "ZEJbmZkdYD_W",
        "outputId": "118095aa-cb73-449e-cac9-ab66aba3b6e1"
      },
      "execution_count": null,
      "outputs": [
        {
          "output_type": "stream",
          "name": "stdout",
          "text": [
            "Found 3031 images belonging to 5 classes.\n"
          ]
        }
      ]
    },
    {
      "cell_type": "code",
      "source": [
        "# Passing testing data for testing variable (augmentation)\n",
        "\n",
        "xtest = test_data.flow_from_directory('/content/drive/MyDrive/Flowers-Dataset/flowers/test',\n",
        "                                           target_size=(64,64),\n",
        "                                           class_mode='categorical',\n",
        "                                           batch_size=100)"
      ],
      "metadata": {
        "colab": {
          "base_uri": "https://localhost:8080/"
        },
        "id": "ErnKIG2UZOEV",
        "outputId": "8738a9a6-f0cb-4c23-bbe3-33e949e66752"
      },
      "execution_count": null,
      "outputs": [
        {
          "output_type": "stream",
          "name": "stdout",
          "text": [
            "Found 1298 images belonging to 5 classes.\n"
          ]
        }
      ]
    },
    {
      "cell_type": "markdown",
      "source": [
        "# CNN Model"
      ],
      "metadata": {
        "id": "aMaCs9XEaCLv"
      }
    },
    {
      "cell_type": "code",
      "source": [
        "from tensorflow.keras.models import Sequential\n",
        "from tensorflow.keras.layers import Convolution2D,MaxPooling2D,Flatten,Dense"
      ],
      "metadata": {
        "id": "j4e01RYsZ4Dn"
      },
      "execution_count": null,
      "outputs": []
    },
    {
      "cell_type": "code",
      "source": [
        "# CNN block \n",
        "\n",
        "model = Sequential() # Initializing sequential model \n",
        "model.add(Convolution2D(32,(3,3),activation='relu',input_shape=(64,64,3))) # Convolution layer \n",
        "model.add(MaxPooling2D(pool_size=(2, 2))) # Max pooling layer \n",
        "model.add(Flatten()) # Flatten layer \n",
        "model.add(Dense(300,activation='relu')) # Hidden layer 1\n",
        "model.add(Dense(150,activation='relu')) # Hidden layer 2\n",
        "model.add(Dense(5,activation='softmax')) # Output layer "
      ],
      "metadata": {
        "id": "9MfdAZhDaek-"
      },
      "execution_count": null,
      "outputs": []
    },
    {
      "cell_type": "code",
      "source": [
        "# Compile model\n",
        "\n",
        "model.compile(optimizer='adam',loss='categorical_crossentropy',metrics=['accuracy'])"
      ],
      "metadata": {
        "id": "5bV0xenScmZ4"
      },
      "execution_count": null,
      "outputs": []
    },
    {
      "cell_type": "code",
      "source": [
        "# Training model\n",
        "model.fit(xtrain,steps_per_epoch=len(xtrain),\n",
        "          epochs=20,validation_data=xtest,validation_steps=len(xtest))\n"
      ],
      "metadata": {
        "id": "jBvhV0AGweos",
        "outputId": "23925511-3b66-41f5-9279-6f220e684d7c",
        "colab": {
          "base_uri": "https://localhost:8080/"
        }
      },
      "execution_count": null,
      "outputs": [
        {
          "output_type": "stream",
          "name": "stdout",
          "text": [
            "\b\b\b\b\b\b\b\b\b\b\b\b\b\b\b\b\b\b\b\b\b\b\b\b\b\b\b\b\b\b\b\b\b\b\b\b\b\b\b\b\b\b\b\b\b\b\b\b\b\b\b\b\b\b\b\b\b\b\b\b\b\b\b\b\b\b\b\b\b\b\b\b\b\b\b\b\b\b\b\b\b\b\r31/31 [==============================] - 382s 13s/step - loss: 1.3025 - accuracy: 0.4345 - val_loss: 1.2088 - val_accuracy: 0.4923\n",
            "Epoch 2/20\n",
            "31/31 [==============================] - 21s 665ms/step - loss: 1.1398 - accuracy: 0.5431 - val_loss: 1.2047 - val_accuracy: 0.5131\n",
            "Epoch 3/20\n",
            "31/31 [==============================] - 20s 661ms/step - loss: 1.0788 - accuracy: 0.5751 - val_loss: 1.0649 - val_accuracy: 0.5647\n",
            "Epoch 4/20\n",
            "31/31 [==============================] - 20s 653ms/step - loss: 1.0254 - accuracy: 0.5998 - val_loss: 1.1759 - val_accuracy: 0.5339\n",
            "Epoch 5/20\n",
            "31/31 [==============================] - 21s 668ms/step - loss: 0.9925 - accuracy: 0.6146 - val_loss: 1.1898 - val_accuracy: 0.5578\n",
            "Epoch 6/20\n",
            "31/31 [==============================] - 21s 665ms/step - loss: 0.9276 - accuracy: 0.6490 - val_loss: 0.9996 - val_accuracy: 0.5971\n",
            "Epoch 7/20\n",
            "31/31 [==============================] - 21s 673ms/step - loss: 0.8922 - accuracy: 0.6552 - val_loss: 0.9864 - val_accuracy: 0.6094\n",
            "Epoch 8/20\n",
            "31/31 [==============================] - 20s 656ms/step - loss: 0.8434 - accuracy: 0.6783 - val_loss: 0.9702 - val_accuracy: 0.6271\n",
            "Epoch 9/20\n",
            "31/31 [==============================] - 21s 662ms/step - loss: 0.8049 - accuracy: 0.6912 - val_loss: 1.0738 - val_accuracy: 0.5994\n",
            "Epoch 10/20\n",
            "31/31 [==============================] - 20s 647ms/step - loss: 0.8352 - accuracy: 0.6760 - val_loss: 0.9557 - val_accuracy: 0.6433\n",
            "Epoch 11/20\n",
            "31/31 [==============================] - 21s 664ms/step - loss: 0.7539 - accuracy: 0.7182 - val_loss: 1.0035 - val_accuracy: 0.6317\n",
            "Epoch 12/20\n",
            "31/31 [==============================] - 22s 700ms/step - loss: 0.7393 - accuracy: 0.7159 - val_loss: 0.9718 - val_accuracy: 0.6348\n",
            "Epoch 13/20\n",
            "31/31 [==============================] - 20s 660ms/step - loss: 0.7049 - accuracy: 0.7463 - val_loss: 0.9457 - val_accuracy: 0.6387\n",
            "Epoch 14/20\n",
            "31/31 [==============================] - 20s 661ms/step - loss: 0.6770 - accuracy: 0.7486 - val_loss: 1.0042 - val_accuracy: 0.6333\n",
            "Epoch 15/20\n",
            "31/31 [==============================] - 20s 659ms/step - loss: 0.6468 - accuracy: 0.7674 - val_loss: 1.0332 - val_accuracy: 0.6325\n",
            "Epoch 16/20\n",
            "31/31 [==============================] - 21s 665ms/step - loss: 0.6512 - accuracy: 0.7618 - val_loss: 1.1348 - val_accuracy: 0.5963\n",
            "Epoch 17/20\n",
            "31/31 [==============================] - 20s 652ms/step - loss: 0.6188 - accuracy: 0.7816 - val_loss: 0.9282 - val_accuracy: 0.6618\n",
            "Epoch 18/20\n",
            "31/31 [==============================] - 21s 676ms/step - loss: 0.5792 - accuracy: 0.7912 - val_loss: 0.9779 - val_accuracy: 0.6618\n",
            "Epoch 19/20\n",
            "31/31 [==============================] - 20s 659ms/step - loss: 0.5415 - accuracy: 0.7978 - val_loss: 1.0388 - val_accuracy: 0.6572\n",
            "Epoch 20/20\n",
            "31/31 [==============================] - 20s 676ms/step - loss: 0.5170 - accuracy: 0.8096 - val_loss: 1.1324 - val_accuracy: 0.6148\n"
          ]
        },
        {
          "output_type": "execute_result",
          "data": {
            "text/plain": [
              "<keras.callbacks.History at 0x7f45acd7a1d0>"
            ]
          },
          "metadata": {},
          "execution_count": 46
        }
      ]
    },
    {
      "cell_type": "code",
      "source": [
        "# Save model\n",
        "\n",
        "model.save('flower.h5')"
      ],
      "metadata": {
        "id": "QHJ_cqQVx_TZ"
      },
      "execution_count": null,
      "outputs": []
    },
    {
      "cell_type": "markdown",
      "source": [
        "# Testing model"
      ],
      "metadata": {
        "id": "eNt4D2MjfwEO"
      }
    },
    {
      "cell_type": "code",
      "source": [
        "from tensorflow.keras.preprocessing import image  # Importing req. lib\n",
        "import numpy as np\n",
        "\n",
        "img = image.load_img('/content/drive/MyDrive/Flowers-Dataset/flowers/test/rose/8035910225_125beceb98_n.jpg',target_size=(64,64))\n",
        "x = image.img_to_array(img)\n",
        "x = np.expand_dims(x,axis=0)\n",
        "pred = np.argmax(model.predict(x))\n",
        "op = ['daisy','dandelion','rose','sunflower','tulip']\n",
        "print(pred)\n",
        "print(op[pred])"
      ],
      "metadata": {
        "colab": {
          "base_uri": "https://localhost:8080/"
        },
        "id": "aDE-2pdofYz3",
        "outputId": "9d6c42bb-414d-43e7-eb5c-5104de0552f0"
      },
      "execution_count": null,
      "outputs": [
        {
          "output_type": "stream",
          "name": "stdout",
          "text": [
            "2\n",
            "rose\n"
          ]
        }
      ]
    },
    {
      "cell_type": "code",
      "source": [
        "xtrain.class_indices"
      ],
      "metadata": {
        "colab": {
          "base_uri": "https://localhost:8080/"
        },
        "id": "lDf71lP3gR4z",
        "outputId": "115f1fb9-852e-4c85-914e-c1605418fb50"
      },
      "execution_count": null,
      "outputs": [
        {
          "output_type": "execute_result",
          "data": {
            "text/plain": [
              "{'daisy': 0, 'dandelion': 1, 'rose': 2, 'sunflower': 3, 'tulip': 4}"
            ]
          },
          "metadata": {},
          "execution_count": 50
        }
      ]
    },
    {
      "cell_type": "code",
      "source": [
        "# Testing 2\n",
        "\n",
        "img = image.load_img('/content/drive/MyDrive/Flowers-Dataset/flowers/test/sunflower/1008566138_6927679c8a.jpg',target_size=(64,64))\n",
        "x = image.img_to_array(img)\n",
        "x = np.expand_dims(x,axis=0)\n",
        "pred = np.argmax(model.predict(x))\n",
        "op = ['daisy','dandelion','rose','sunflower','tulip']\n",
        "print(pred)\n",
        "print(op[pred])"
      ],
      "metadata": {
        "colab": {
          "base_uri": "https://localhost:8080/"
        },
        "id": "M86LpUGbhLo6",
        "outputId": "4e4c4921-cc9c-48d1-fdd6-5df1052481f6"
      },
      "execution_count": null,
      "outputs": [
        {
          "output_type": "stream",
          "name": "stdout",
          "text": [
            "3\n",
            "sunflower\n"
          ]
        }
      ]
    },
    {
      "cell_type": "code",
      "source": [
        "# Testing 3\n",
        "\n",
        "img = image.load_img('/content/drive/MyDrive/Flowers-Dataset/flowers/test/tulip/100930342_92e8746431_n.jpg',target_size=(64,64))\n",
        "x = image.img_to_array(img)\n",
        "x = np.expand_dims(x,axis=0)\n",
        "pred = np.argmax(model.predict(x))\n",
        "op = ['daisy','dandelion','rose','sunflower','tulip']\n",
        "print(pred)\n",
        "print(op[pred])"
      ],
      "metadata": {
        "colab": {
          "base_uri": "https://localhost:8080/"
        },
        "id": "NW72Bt9SiPGc",
        "outputId": "f336cc29-2cd4-451a-d95b-2b7d0d51ec65"
      },
      "execution_count": null,
      "outputs": [
        {
          "output_type": "stream",
          "name": "stdout",
          "text": [
            "4\n",
            "tulip\n"
          ]
        }
      ]
    },
    {
      "cell_type": "code",
      "source": [],
      "metadata": {
        "id": "Z-lCpIMxihfv"
      },
      "execution_count": null,
      "outputs": []
    }
  ]
}